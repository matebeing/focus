{
 "cells": [
  {
   "cell_type": "markdown",
   "metadata": {},
   "source": [
    "# FOCUS"
   ]
  },
  {
   "cell_type": "markdown",
   "metadata": {},
   "source": [
    "##### Baixar as provas e salvar em um arquivo"
   ]
  },
  {
   "cell_type": "code",
   "execution_count": null,
   "metadata": {},
   "outputs": [],
   "source": [
    "import requests \n",
    "import os\n",
    "from bs4 import BeautifulSoup\n",
    "\n",
    "url = \"https://www.revista.vestibular.uerj.br/questao/\"\n",
    "\n",
    "response = requests.get(url, verify=False)\n",
    "soup = BeautifulSoup(response.text, 'html.parser')\n",
    "\n",
    "links = soup.find_all('a')\n",
    " \n",
    "i = 0\n",
    "for link in links:\n",
    "    if ('.pdf' in link.get('href', [])):\n",
    "        i += 1\n",
    "        print(\"Downloading file: \", i)\n",
    " \n",
    "        response = requests.get(\"https://www.revista.vestibular.uerj.br\" + link.get('href'), verify=False)\n",
    "        pdf = open(os.path.join('exams', str(i)+\".pdf\"), 'wb')\n",
    "        pdf.write(response.content)\n",
    "        pdf.close()"
   ]
  },
  {
   "cell_type": "markdown",
   "metadata": {},
   "source": [
    "##### Extrair informações do PDF e transformar em planilha"
   ]
  },
  {
   "cell_type": "code",
   "execution_count": 12,
   "metadata": {},
   "outputs": [
    {
     "name": "stdout",
     "output_type": "stream",
     "text": [
      "File 1, length  346\n",
      "File 2, length  708\n",
      "File 3, length  708\n",
      "File 4, length  1034\n",
      "File 5, length  1034\n",
      "File 6, length  1350\n",
      "File 7, length  1552\n",
      "File 8, length  1762\n",
      "File 9, length  2069\n",
      "File 10, length  2395\n",
      "File 11, length  2703\n",
      "File 12, length  2999\n",
      "File 13, length  3304\n",
      "File 14, length  3604\n",
      "File 15, length  3898\n",
      "File 16, length  4193\n",
      "File 17, length  4508\n",
      "File 18, length  4746\n",
      "File 19, length  5052\n",
      "File 20, length  5376\n",
      "File 21, length  5551\n",
      "File 22, length  5872\n",
      "File 23, length  6204\n",
      "File 24, length  6451\n",
      "File 25, length  6763\n",
      "File 26, length  7077\n",
      "File 27, length  7322\n",
      "File 28, length  7635\n"
     ]
    }
   ],
   "source": [
    "from pdfminer.high_level import extract_text\n",
    "import re\n",
    "import pandas as pd\n",
    "\n",
    "data={\n",
    "    'eixo': [],\n",
    "    'item': [],\n",
    "    'subitem': [],\n",
    "}\n",
    "        \n",
    "for i in range(1, 29):\n",
    "    pdf = 'exams/'+str(i)+'.pdf'\n",
    "    text = extract_text(pdf)\n",
    "\n",
    "    for line in text.splitlines():\n",
    "        x = re.match(\"^(Eixo|Item|Subitem|Percentual)(.*):(.+)$\", line)\n",
    "        if x:\n",
    "            if x[1] == 'Eixo':\n",
    "                data['eixo'].append(x[3].strip())\n",
    "            else:\n",
    "                data['eixo'].append(\"---\")\n",
    "            if x[1] == 'Item':\n",
    "                data['item'].append(x[3].strip())\n",
    "            elif x[1] == 'Subitem':\n",
    "                data['subitem'].append(x[3].strip())\n",
    "            else:\n",
    "                data['subitem'].append(\"\")\n",
    "\n",
    "    df = pd.DataFrame(list(zip(data['eixo'], data['item'], data['subitem'])), columns=[\"Eixo\", \"Item\", \"Subitem\"])\n",
    "    df.to_excel(\"sheets/exam\"+ str(i) + \".xlsx\", index=False)\n",
    "    print(\"File \" + str(i) + \", length \", len(data['eixo']))\n",
    "\n",
    "\n"
   ]
  }
 ],
 "metadata": {
  "kernelspec": {
   "display_name": "Python 3",
   "language": "python",
   "name": "python3"
  },
  "language_info": {
   "codemirror_mode": {
    "name": "ipython",
    "version": 3
   },
   "file_extension": ".py",
   "mimetype": "text/x-python",
   "name": "python",
   "nbconvert_exporter": "python",
   "pygments_lexer": "ipython3",
   "version": "3.11.3"
  },
  "orig_nbformat": 4
 },
 "nbformat": 4,
 "nbformat_minor": 2
}
